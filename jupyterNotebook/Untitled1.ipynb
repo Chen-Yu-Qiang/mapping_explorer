{
 "cells": [
  {
   "cell_type": "code",
   "execution_count": 2,
   "id": "0e14f5c2",
   "metadata": {},
   "outputs": [
    {
     "name": "stdout",
     "output_type": "stream",
     "text": [
      "in linux\n"
     ]
    }
   ],
   "source": [
    "'''math tool'''\n",
    "import csv\n",
    "import numpy as np\n",
    "from scipy.spatial import distance as dist\n",
    "\n",
    "'''plot tool'''\n",
    "import matplotlib.pyplot as plt\n",
    "\n",
    "'''image tool'''\n",
    "import cv2\n",
    "import statistics as sta\n",
    "\n",
    "import utm\n",
    "from pyproj import Proj\n",
    "import time\n",
    "import sys\n",
    "if sys.platform.startswith('linux'): # or win\n",
    "    print(\"in linux\")\n",
    "    file_path = \"/home/ncslaber/mapping_node/mapping_ws/src/mapping_explorer/0906_demo_data/2tree/\"\n",
    "    # test_data/\n",
    "#     sys.path.remove('/opt/ros/kinetic/lib/python2.7/dist-packages')\n",
    "else:\n",
    "    file_path = r\"C:/Users/15sin/OneDrive/文件/GitHub/mapping_explorer/test_data/\""
   ]
  },
  {
   "cell_type": "code",
   "execution_count": 3,
   "id": "e4742236",
   "metadata": {},
   "outputs": [],
   "source": [
    "P = np.array([[ 352847.76728117,  352851.45617005,  352865.55140815,  352870.92283672],\n",
    "                 [2767650.49778999, 2767651.60890111, 2767652.14223444, 2767648.74223444]])\n",
    "# U = np.array([[ 352845.32283672,  352848.97283672],\n",
    "#                  [2767649.69223444, 2767651.09223444]])\n",
    "U = np.array([[ 352845.32283672,  352848.97283672],\n",
    "                 [2767649.69223444, 2767651.09223444]])"
   ]
  },
  {
   "cell_type": "code",
   "execution_count": 4,
   "id": "62993497",
   "metadata": {},
   "outputs": [],
   "source": [
    "def find_second(row_index, first_min):\n",
    "    second_min = 100\n",
    "    sm_index = 0\n",
    "    row_list = D[row_index,:]\n",
    "    for i in range(len(row_list)):\n",
    "        if row_list[i] != first_min:\n",
    "            if row_list[i] < second_min:\n",
    "                second_min = row_list[i]\n",
    "                sm_index = i\n",
    "    \n",
    "    return second_min, sm_index"
   ]
  },
  {
   "cell_type": "code",
   "execution_count": 5,
   "id": "3547b673",
   "metadata": {},
   "outputs": [
    {
     "name": "stdout",
     "output_type": "stream",
     "text": [
      "[[ 2.57375764  6.4258376  20.37639816 25.61762089]\n",
      " [ 1.34414597  2.53651116 16.61178891 22.07543884]]\n",
      "match point:  [(0, 0), (1, 0)]\n",
      "matched same ref landmarks!\n",
      "changed point:  [(0, 0), (1, 1)]\n"
     ]
    }
   ],
   "source": [
    "D = dist.cdist(U.T, P.T)\n",
    "rows = D.min(axis=1).argsort()\n",
    "cols = D.argmin(axis=1)\n",
    "print(D)\n",
    "print('match point: ', list(enumerate(cols)))\n",
    "\n",
    "for a in range(len(cols)):\n",
    "    b=1\n",
    "    while a+b < len(cols):\n",
    "        if cols[a] == cols[a+b]:\n",
    "            print(\"matched same ref landmarks!\")\n",
    "            second_min_A,A = find_second(a,D[a,cols[a]])\n",
    "            second_min_B,B = find_second(a+b,D[a+b,cols[a+b]])\n",
    "            if second_min_A>second_min_B:\n",
    "                cols[a+b]=B\n",
    "            elif second_min_A<second_min_B:\n",
    "                cols[a]=A\n",
    "            print('changed point: ', list(enumerate(cols)))\n",
    "        b+=1\n",
    "\n",
    "Q = np.zeros(U.shape)\n",
    "for (i, col) in enumerate(cols):\n",
    "    Q[:,i] = P[:,col]"
   ]
  },
  {
   "cell_type": "code",
   "execution_count": 6,
   "id": "6175d9eb",
   "metadata": {},
   "outputs": [
    {
     "data": {
      "text/plain": [
       "array([[ 352847.76728117,  352851.45617005],\n",
       "       [2767650.49778999, 2767651.60890111]])"
      ]
     },
     "execution_count": 6,
     "metadata": {},
     "output_type": "execute_result"
    }
   ],
   "source": [
    "Q"
   ]
  },
  {
   "cell_type": "code",
   "execution_count": 7,
   "id": "fce6a01d",
   "metadata": {},
   "outputs": [
    {
     "name": "stdout",
     "output_type": "stream",
     "text": [
      "[[ 352847.14783672]\n",
      " [2767650.39223444]]\n",
      "det(vh@u.T):  -1.0000000000000002\n",
      "R:  [[ 0.79071679  0.61218212]\n",
      " [-0.61218212  0.79071679]]\n",
      "theta (deg):  37.74745246526105\n",
      "translation:  [[2.46388889]\n",
      " [0.66111111]]\n"
     ]
    }
   ],
   "source": [
    "# centerize\n",
    "U_bar = np.array([np.average(U, axis=1)])\n",
    "U_bar = U_bar.T\n",
    "Q_bar = np.array([np.average(Q, axis=1)])\n",
    "Q_bar = Q_bar.T\n",
    "print(U_bar)\n",
    "X = U-U_bar\n",
    "Y = Q-Q_bar\n",
    "S = X @ Y.T\n",
    "u, s, vh = np.linalg.svd(S)\n",
    "# check u, vh det\n",
    "print('det(vh@u.T): ',np.linalg.det(vh@u.T))\n",
    "det = np.linalg.det(vh@u.T)\n",
    "if det>0:\n",
    "    tmp = np.array([[1,0],[0,1]])\n",
    "    \n",
    "else: \n",
    "    tmp = np.array([[1,0],[0,-1]])\n",
    "    \n",
    "R = vh @ tmp @ u.T\n",
    "t = Q_bar-U_bar\n",
    "\n",
    "print('R: ',R)\n",
    "print('theta (deg): ',(np.arctan2(-R[1,0], R[0,0]))/np.pi*180)\n",
    "print('translation: ',t)"
   ]
  },
  {
   "cell_type": "code",
   "execution_count": 10,
   "id": "13e9ce4a",
   "metadata": {},
   "outputs": [
    {
     "data": {
      "image/png": "[encoded data removed]",
      "text/plain": [
       "<Figure size 432x288 with 1 Axes>"
      ]
     },
     "metadata": {
      "needs_background": "light"
     },
     "output_type": "display_data"
    }
   ],
   "source": [
    "U_new = R@X#+U_bar+t\n",
    "# utm_loc = np.array([[utm_x_loc],[utm_y_loc]])\n",
    "# utm_loc_decentral = utm_loc-U_bar\n",
    "# utm_loc_new = R@utm_loc_decentral+U_bar+t\n",
    "plt.scatter(Y[0,:], Y[1,:], c='g', label='ref landmarks', marker='X', s=100)\n",
    "plt.scatter(X[0,:], X[1,:], label='scanned landmarks',c='b')\n",
    "# plt.scatter(utm_loc_decentral[0], utm_loc_decentral[1], label='origin pose',c='b', marker=\"v\")\n",
    "# plt.scatter(w[0], w[1], label='origin pose',c='orange', marker=\"v\")\n",
    "# plt.scatter(U_bar[0], U_bar[1], label='origin pose',c='black', marker=\"v\")\n",
    "plt.scatter(U_new[0,:], U_new[1,:], label='transform landmarks',c='r')\n",
    "# plt.scatter(utm_loc_new[0], utm_loc_new[1], label='transform pose',c='r', marker=\"v\")\n",
    "\n",
    "plt.axis('equal')\n",
    "plt.title('residuals btw scan and ref', fontsize=15)\n",
    "plt.legend(fontsize=15)\n",
    "plt.show()"
   ]
  },
  {
   "cell_type": "code",
   "execution_count": null,
   "id": "e567b056",
   "metadata": {},
   "outputs": [],
   "source": []
  }
 ],
 "metadata": {
  "kernelspec": {
   "display_name": "Python 3",
   "language": "python",
   "name": "python3"
  },
  "language_info": {
   "codemirror_mode": {
    "name": "ipython",
    "version": 3
   },
   "file_extension": ".py",
   "mimetype": "text/x-python",
   "name": "python",
   "nbconvert_exporter": "python",
   "pygments_lexer": "ipython3",
   "version": "3.8.10"
  }
 },
 "nbformat": 4,
 "nbformat_minor": 5
}
