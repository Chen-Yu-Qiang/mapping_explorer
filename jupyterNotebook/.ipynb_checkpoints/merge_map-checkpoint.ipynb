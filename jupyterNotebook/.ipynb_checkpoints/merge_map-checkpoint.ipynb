{
 "cells": [
  {
   "cell_type": "markdown",
   "id": "c5d14ff5",
   "metadata": {},
   "source": [
    "# 1/2 manually build map"
   ]
  },
  {
   "cell_type": "code",
   "execution_count": 1,
   "id": "16fc9228",
   "metadata": {},
   "outputs": [],
   "source": [
    "import rosbag"
   ]
  },
  {
   "cell_type": "code",
   "execution_count": 28,
   "id": "7549ab00",
   "metadata": {},
   "outputs": [
    {
     "name": "stdout",
     "output_type": "stream",
     "text": [
      "Start reading: /home/ncslaber/110-1/211002_allLibrary/image_bag/2021-10-02-17-54-09.bag\n",
      "25.017783\n",
      "error with: /home/ncslaber/110-1/211002_allLibrary/image_bag/2021-10-02-17-54-09.bag\n"
     ]
    }
   ],
   "source": [
    "bag_source_dir = '/home/ncslaber/110-1/211002_allLibrary/image_bag/'\n",
    "file_name = {'middle':'2021-10-02-17-54-09',}# 'front_right':'2021-10-02-17-03-14', \n",
    "            #'middle_right':'2021-10-02-17-29-15', }\n",
    "lat_dict = {}\n",
    "lng_dict = {}\n",
    "for item in file_name.keys():\n",
    "    try:\n",
    "\n",
    "        topics = ['/navsat/fix']\n",
    "        \n",
    "        bag_source_file = bag_source_dir + file_name[item] + '.bag'\n",
    "        print('Start reading: {}'.format(bag_source_file))\n",
    "        bag = rosbag.Bag(bag_source_file, 'r')\n",
    "        \n",
    "        lat_dict[item] = list()\n",
    "        lng_dict[item] = list()\n",
    "        \n",
    "        for topic, msg, t in bag.read_messages(topics=topics):\n",
    "            if topic == '/navsat/fix':\n",
    "                if not math.isnan(msg.latitude) and not math.isnan(msg.longitude):\n",
    "                    lat_dict[item].append(msg.latitude)\n",
    "                    lng_dict[item].append(msg.longitude)\n",
    "                else:\n",
    "                    print(msg.latitude, msg.longitude)\n",
    "\n",
    "                   \n",
    "        bag.close()\n",
    "                \n",
    "    except:\n",
    "            print('error with: {}'.format(bag_source_file)) "
   ]
  },
  {
   "cell_type": "code",
   "execution_count": 18,
   "id": "a9fe8f32",
   "metadata": {},
   "outputs": [],
   "source": [
    "a={}"
   ]
  },
  {
   "cell_type": "code",
   "execution_count": 19,
   "id": "03ba1df2",
   "metadata": {},
   "outputs": [],
   "source": [
    "a[1]=list()"
   ]
  },
  {
   "cell_type": "code",
   "execution_count": 13,
   "id": "f4bb1768",
   "metadata": {},
   "outputs": [
    {
     "data": {
      "text/plain": [
       "dict_items([('b', 1), ('c', 2)])"
      ]
     },
     "execution_count": 13,
     "metadata": {},
     "output_type": "execute_result"
    }
   ],
   "source": [
    "a.items()"
   ]
  },
  {
   "cell_type": "code",
   "execution_count": 20,
   "id": "1fe0d85f",
   "metadata": {},
   "outputs": [
    {
     "data": {
      "text/plain": [
       "{1: []}"
      ]
     },
     "execution_count": 20,
     "metadata": {},
     "output_type": "execute_result"
    }
   ],
   "source": [
    "a"
   ]
  },
  {
   "cell_type": "code",
   "execution_count": null,
   "id": "3e3fc99a",
   "metadata": {},
   "outputs": [],
   "source": []
  }
 ],
 "metadata": {
  "kernelspec": {
   "display_name": "Python 3",
   "language": "python",
   "name": "python3"
  },
  "language_info": {
   "codemirror_mode": {
    "name": "ipython",
    "version": 3
   },
   "file_extension": ".py",
   "mimetype": "text/x-python",
   "name": "python",
   "nbconvert_exporter": "python",
   "pygments_lexer": "ipython3",
   "version": "3.8.10"
  }
 },
 "nbformat": 4,
 "nbformat_minor": 5
}
