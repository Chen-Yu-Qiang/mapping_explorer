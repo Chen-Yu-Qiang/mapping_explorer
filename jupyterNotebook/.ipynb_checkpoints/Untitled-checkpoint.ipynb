{
 "cells": [
  {
   "cell_type": "code",
   "execution_count": null,
   "id": "b8859edb",
   "metadata": {},
   "outputs": [],
   "source": [
    "'''math tool'''\n",
    "import csv\n",
    "import numpy as np\n",
    "from scipy.spatial import distance as dist\n",
    "\n",
    "'''plot tool'''\n",
    "import matplotlib.pyplot as plt\n",
    "\n",
    "'''image tool'''\n",
    "import cv2\n",
    "import statistics as sta\n",
    "\n",
    "import utm\n",
    "from pyproj import Proj\n",
    "import time\n",
    "import sys\n",
    "if sys.platform.startswith('linux'): # or win\n",
    "    print(\"in linux\")\n",
    "    file_path = \"/home/ncslaber/110-1/211009_allLibrary/front-right/syn_rosbag/\"\n",
    "\n",
    "cx_d = 320.6562194824219 #424\n",
    "cy_d = 241.57083129882812 #241\n",
    "fx_d = 384.31365966796875 #424\n",
    "fy_d = 384.31365966796875 #424\n",
    "\n",
    "npDepth = np.load(file_path+\"depth.npy\")\n",
    "npColor = np.load(file_path+\"color.npy\")\n",
    "\n",
    "npDepthF = cv2.convertScaleAbs(npDepth, alpha=0.02) # 6m\n",
    "npDepthF_color = cv2.applyColorMap(npDepthF, cv2.COLORMAP_JET)\n",
    "fig=plt.figure(figsize=(10,10))\n",
    "subplot = fig.add_subplot(121)\n",
    "subplot.imshow(npColor)\n",
    "subplot = fig.add_subplot(122)\n",
    "subplot.imshow(npDepthF_color)"
   ]
  }
 ],
 "metadata": {
  "kernelspec": {
   "display_name": "Python 3",
   "language": "python",
   "name": "python3"
  },
  "language_info": {
   "codemirror_mode": {
    "name": "ipython",
    "version": 3
   },
   "file_extension": ".py",
   "mimetype": "text/x-python",
   "name": "python",
   "nbconvert_exporter": "python",
   "pygments_lexer": "ipython3",
   "version": "3.8.10"
  }
 },
 "nbformat": 4,
 "nbformat_minor": 5
}
