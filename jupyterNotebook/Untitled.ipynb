{
 "cells": [
  {
   "cell_type": "code",
   "execution_count": 1,
   "id": "11f356d1",
   "metadata": {},
   "outputs": [],
   "source": [
    "'''math tool'''\n",
    "import csv\n",
    "import numpy as np\n",
    "\n",
    "'''plot tool'''\n",
    "import matplotlib.pyplot as plt\n",
    "from mpl_toolkits.mplot3d import Axes3D\n",
    "from matplotlib import cm\n",
    "from matplotlib.ticker import LinearLocator\n",
    "import matplotlib.ticker as ticker\n",
    "\n",
    "'''image tool'''\n",
    "import cv2\n",
    "#import pyrealsense2 as rs\n",
    "import statistics as sta"
   ]
  },
  {
   "cell_type": "code",
   "execution_count": 2,
   "id": "da7883f7",
   "metadata": {},
   "outputs": [
    {
     "name": "stdout",
     "output_type": "stream",
     "text": [
      "pgm height is:  2048\n"
     ]
    }
   ],
   "source": [
    "raw_pgm = cv2.imread(\"/home/ncslaber/110-1/211002_allLibrary/2021-10-02-17-03-14/dif_height_map/height50-70.pgm\")\n",
    "if raw_pgm is None:\n",
    "    print(\"Image is empty!!\")\n",
    "raw_pgm = cv2.cvtColor(raw_pgm, cv2.COLOR_RGB2GRAY)\n",
    "(width, height) = raw_pgm.shape # the order is right\n",
    "print(\"pgm height is: \",height)"
   ]
  },
  {
   "cell_type": "code",
   "execution_count": 3,
   "id": "24053d81",
   "metadata": {},
   "outputs": [
    {
     "data": {
      "text/plain": [
       "<matplotlib.image.AxesImage at 0x7fe185b524c0>"
      ]
     },
     "execution_count": 3,
     "metadata": {},
     "output_type": "execute_result"
    },
    {
     "data": {
      "image/png": "[encoded data removed]",
      "text/plain": [
       "<Figure size 432x288 with 1 Axes>"
      ]
     },
     "metadata": {
      "needs_background": "light"
     },
     "output_type": "display_data"
    }
   ],
   "source": [
    "raw_pgm_binary = np.zeros(raw_pgm.shape[:2],dtype=np.uint8)\n",
    "raw_pgm_binary[raw_pgm==0]=255\n",
    "raw_pgm_binary_tmp = np.zeros(raw_pgm.shape[:2],dtype=np.uint8)\n",
    "raw_pgm_binary_tmp[raw_pgm_binary==0]=255\n",
    "raw_pgm_binary_tmp[raw_pgm_binary==255]=0\n",
    "plt.imshow(cv2.cvtColor(raw_pgm_binary_tmp[400:1000,1000:1700], cv2.COLOR_BGR2RGB))"
   ]
  },
  {
   "cell_type": "code",
   "execution_count": 4,
   "id": "14671808",
   "metadata": {},
   "outputs": [],
   "source": [
    "def morph_map(raw_pgm_binary):\n",
    "    kernel = np.ones((3,3), np.uint8)\n",
    "    raw_pgm_binary = cv2.dilate(raw_pgm_binary, kernel, iterations = 1)\n",
    "    raw_pgm_binary = cv2.erode(raw_pgm_binary,kernel,iterations = 1)\n",
    "#     fig = plt.figure(figsize=(10,10))\n",
    "#     subplot = fig.add_subplot(121)\n",
    "#     subplot.imshow(cv2.cvtColor(raw_pgm, cv2.COLOR_BGR2RGB))\n",
    "#     subplot = fig.add_subplot(122)\n",
    "#     subplot.imshow(cv2.cvtColor(raw_pgm_binary, cv2.COLOR_BGR2RGB))\n",
    "    plt.imshow(cv2.cvtColor(raw_pgm_binary[400:1000,1000:1700], cv2.COLOR_BGR2RGB))"
   ]
  },
  {
   "cell_type": "code",
   "execution_count": 5,
   "id": "349c9b4a",
   "metadata": {},
   "outputs": [
    {
     "data": {
      "image/png": "[encoded data removed]",
      "text/plain": [
       "<Figure size 432x288 with 1 Axes>"
      ]
     },
     "metadata": {
      "needs_background": "light"
     },
     "output_type": "display_data"
    }
   ],
   "source": [
    "morph_map(raw_pgm_binary_tmp)"
   ]
  },
  {
   "cell_type": "code",
   "execution_count": 6,
   "id": "ddb94a37",
   "metadata": {},
   "outputs": [
    {
     "name": "stdout",
     "output_type": "stream",
     "text": [
      "pgm height is:  2048\n"
     ]
    },
    {
     "data": {
      "image/png": "[encoded data removed]",
      "text/plain": [
       "<Figure size 432x288 with 1 Axes>"
      ]
     },
     "metadata": {
      "needs_background": "light"
     },
     "output_type": "display_data"
    }
   ],
   "source": [
    "raw_pgm = cv2.imread(\"/home/ncslaber/110-1/211002_allLibrary/2021-10-02-17-03-14/dif_height_map/height70-90.pgm\")\n",
    "if raw_pgm is None:\n",
    "    print(\"Image is empty!!\")\n",
    "raw_pgm = cv2.cvtColor(raw_pgm, cv2.COLOR_RGB2GRAY)\n",
    "(width, height) = raw_pgm.shape # the order is right\n",
    "print(\"pgm height is: \",height)\n",
    "raw_pgm_binary = np.zeros(raw_pgm.shape[:2],dtype=np.uint8)\n",
    "raw_pgm_binary[raw_pgm==0]=255\n",
    "raw_pgm_binary_tmp1 = np.zeros(raw_pgm.shape[:2],dtype=np.uint8)\n",
    "raw_pgm_binary_tmp1[raw_pgm_binary==0]=255\n",
    "raw_pgm_binary_tmp1[raw_pgm_binary==255]=0\n",
    "plt.imshow(cv2.cvtColor(raw_pgm_binary_tmp1[400:1000,1000:1700], cv2.COLOR_BGR2RGB))\n",
    "\n",
    "morph_map(raw_pgm_binary_tmp1)"
   ]
  },
  {
   "cell_type": "code",
   "execution_count": 7,
   "id": "edd79f77",
   "metadata": {},
   "outputs": [
    {
     "data": {
      "text/plain": [
       "<matplotlib.image.AxesImage at 0x7fe18590da30>"
      ]
     },
     "execution_count": 7,
     "metadata": {},
     "output_type": "execute_result"
    },
    {
     "data": {
      "image/png": "[encoded data removed]",
      "text/plain": [
       "<Figure size 432x288 with 1 Axes>"
      ]
     },
     "metadata": {
      "needs_background": "light"
     },
     "output_type": "display_data"
    }
   ],
   "source": [
    "npColorMask = cv2.addWeighted(raw_pgm_binary_tmp1, 0.5, raw_pgm_binary_tmp, 0.5, 0.0)\n",
    "plt.imshow(cv2.cvtColor(npColorMask[400:1000,1000:1700], cv2.COLOR_BGR2RGB))"
   ]
  },
  {
   "cell_type": "code",
   "execution_count": 10,
   "id": "3180f256",
   "metadata": {},
   "outputs": [
    {
     "data": {
      "text/plain": [
       "(2048, 2048, 3)"
      ]
     },
     "execution_count": 10,
     "metadata": {},
     "output_type": "execute_result"
    }
   ],
   "source": [
    "tmp=np.zeros((raw_pgm.shape[0],raw_pgm.shape[1],3))\n",
    "tmp.shape"
   ]
  },
  {
   "cell_type": "code",
   "execution_count": 12,
   "id": "26c346b2",
   "metadata": {},
   "outputs": [],
   "source": [
    "tmp[raw_pgm==0,:]=(255,0,0)"
   ]
  },
  {
   "cell_type": "code",
   "execution_count": 13,
   "id": "39fef93f",
   "metadata": {},
   "outputs": [
    {
     "name": "stderr",
     "output_type": "stream",
     "text": [
      "Clipping input data to the valid range for imshow with RGB data ([0..1] for floats or [0..255] for integers).\n"
     ]
    },
    {
     "data": {
      "text/plain": [
       "<matplotlib.image.AxesImage at 0x7fe17c8958b0>"
      ]
     },
     "execution_count": 13,
     "metadata": {},
     "output_type": "execute_result"
    },
    {
     "data": {
      "image/png": "[encoded data removed]",
      "text/plain": [
       "<Figure size 432x288 with 1 Axes>"
      ]
     },
     "metadata": {
      "needs_background": "light"
     },
     "output_type": "display_data"
    }
   ],
   "source": [
    "plt.imshow(tmp)"
   ]
  },
  {
   "cell_type": "code",
   "execution_count": null,
   "id": "dbe0d11f",
   "metadata": {},
   "outputs": [],
   "source": []
  }
 ],
 "metadata": {
  "kernelspec": {
   "display_name": "Python 3",
   "language": "python",
   "name": "python3"
  },
  "language_info": {
   "codemirror_mode": {
    "name": "ipython",
    "version": 3
   },
   "file_extension": ".py",
   "mimetype": "text/x-python",
   "name": "python",
   "nbconvert_exporter": "python",
   "pygments_lexer": "ipython3",
   "version": "3.8.10"
  }
 },
 "nbformat": 4,
 "nbformat_minor": 5
}
